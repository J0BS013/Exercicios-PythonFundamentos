{
 "cells": [
  {
   "cell_type": "markdown",
   "metadata": {},
   "source": [
    "# <font color='blue'>Data Science Academy - Python Fundamentos - Capítulo 5</font>\n",
    "\n",
    "## Download: http://github.com/dsacademybr"
   ]
  },
  {
   "cell_type": "code",
   "execution_count": null,
   "metadata": {},
   "outputs": [],
   "source": [
    "# Versão da Linguagem Python\n",
    "from platform import python_version\n",
    "print('Versão da Linguagem Python Usada Neste Jupyter Notebook:', python_version())"
   ]
  },
  {
   "cell_type": "markdown",
   "metadata": {},
   "source": [
    "## Exercícios"
   ]
  },
  {
   "cell_type": "code",
   "execution_count": 112,
   "metadata": {},
   "outputs": [
    {
     "name": "stdout",
     "output_type": "stream",
     "text": [
      "10 49\n"
     ]
    }
   ],
   "source": [
    "# Exercício 1 - Crie um objeto a partir da classe abaixo, chamado roc1, passando 2 parâmetros e depois faça uma chamada\n",
    "# aos atributos e métodos\n",
    "from math import sqrt\n",
    "\n",
    "class Rocket():\n",
    "     \n",
    "    def __init__(self, x=0, y=0):\n",
    "        self.x = x\n",
    "        self.y = y\n",
    "        \n",
    "    def move_rocket(self, x_increment=0, y_increment=1):\n",
    "        self.x += x_increment\n",
    "        self.y += y_increment\n",
    "        \n",
    "    def print_rocket(self):\n",
    "        print(self.x, self.y)\n",
    "        \n",
    "roc1 = Rocket(x=10,y=48)\n",
    "\n",
    "roc1.x\n",
    "\n",
    "roc1.y\n",
    "\n",
    "roc1.move_rocket()\n",
    "\n",
    "roc1.print_rocket()"
   ]
  },
  {
   "cell_type": "code",
   "execution_count": 113,
   "metadata": {},
   "outputs": [
    {
     "name": "stdout",
     "output_type": "stream",
     "text": [
      "Pessoa criada! \n",
      "\n",
      "Nome: Joabe Cidade: Poá Telefone: 11973658018 E-mail: jbencao37@gmail.com\n"
     ]
    }
   ],
   "source": [
    "# Exercício 2 - Crie uma classe chamada Pessoa() com os atributos: nome, cidade, telefone e e-mail. Use pelo menos 2\n",
    "# métodos especiais na sua classe. Crie um objeto da sua classe e faça uma chamada a pelo menos um dos seus métodos\n",
    "# especiais.\n",
    "\n",
    "class Pessoa():\n",
    "    \n",
    "    def __init__(self, nome, cidade, telefone, email):\n",
    "        \n",
    "        self.nome = nome\n",
    "        self.cidade = cidade\n",
    "        self.telefone = telefone\n",
    "        self.email = email\n",
    "        \n",
    "        print(\"Pessoa criada! \\n\")\n",
    "        \n",
    "    def __str__(self):\n",
    "        \n",
    "        return \"Nome: \"+self.nome+\" Cidade: \"+self.cidade+ \" Telefone: \"+self.telefone+\" E-mail: \"+self.email\n",
    "                   \n",
    "primeiro = Pessoa('Joabe','Poá','11973658018','jbencao37@gmail.com')\n",
    "\n",
    "print(primeiro)\n"
   ]
  },
  {
   "cell_type": "code",
   "execution_count": 114,
   "metadata": {},
   "outputs": [
    {
     "name": "stdout",
     "output_type": "stream",
     "text": [
      "Smartphone Criado!\n",
      "MP3Player Criado!\n"
     ]
    },
    {
     "data": {
      "text/plain": [
       "'Tamanho: Grande, Interface: LED, Capacidade: 3000'"
      ]
     },
     "execution_count": 114,
     "metadata": {},
     "output_type": "execute_result"
    }
   ],
   "source": [
    "# Exercício 3 - Crie a classe Smartphone com 2 atributos, tamanho e interface e crie a classe MP3Player com os \n",
    "# atributos capacidade. A classe MP3player deve herdar os atributos da classe Smartphone.\n",
    "\n",
    "class Smartphone():\n",
    "    \n",
    "    def __init__(self,tamanho,interface):\n",
    "        \n",
    "        self.tamanho = tamanho\n",
    "        self.interface = interface\n",
    "        \n",
    "        print(\"Smartphone Criado!\")\n",
    "    \n",
    "\n",
    "class MP3Player(Smartphone):\n",
    "    \n",
    "    def __init__(self,tamanho,interface,capacidade):\n",
    "        Smartphone.__init__(self,tamanho,interface)\n",
    "        \n",
    "        self.capacidade = capacidade\n",
    "        \n",
    "        print(\"MP3Player Criado!\")\n",
    "        \n",
    "\n",
    "    def __str__(self):\n",
    "        \n",
    "        return \"Tamanho: \"+self.tamanho+\", Interface: \"+self.interface+ \", Capacidade: \"+self.capacidade\n",
    "\n",
    "\n",
    "mp3 = MP3Player('Grande','LED','3000')\n",
    "\n",
    "str(mp3)"
   ]
  },
  {
   "cell_type": "markdown",
   "metadata": {},
   "source": [
    "### FIM"
   ]
  },
  {
   "cell_type": "markdown",
   "metadata": {},
   "source": [
    "### Obrigado - Data Science Academy - <a href=\"http://facebook.com/dsacademybr\">facebook.com/dsacademybr</a>"
   ]
  }
 ],
 "metadata": {
  "kernelspec": {
   "display_name": "Python 3",
   "language": "python",
   "name": "python3"
  },
  "language_info": {
   "codemirror_mode": {
    "name": "ipython",
    "version": 3
   },
   "file_extension": ".py",
   "mimetype": "text/x-python",
   "name": "python",
   "nbconvert_exporter": "python",
   "pygments_lexer": "ipython3",
   "version": "3.7.6"
  }
 },
 "nbformat": 4,
 "nbformat_minor": 1
}
